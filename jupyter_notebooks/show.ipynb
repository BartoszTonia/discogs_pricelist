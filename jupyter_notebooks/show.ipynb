{
 "cells": [
  {
   "cell_type": "markdown",
   "metadata": {},
   "source": [
    "# Best Bargain Analysis"
   ]
  },
  {
   "cell_type": "markdown",
   "metadata": {},
   "source": [
    "After <a href='scraping_engine.ipynb'> scraping </a> and <a href='convert.ipynb'>preparing</a>, with clear database of potential bargains, we can adapt some customized queries to see the best offers."
   ]
  },
  {
   "cell_type": "markdown",
   "metadata": {},
   "source": [
    "For this we will need pandas, plots and arrays"
   ]
  },
  {
   "cell_type": "markdown",
   "metadata": {},
   "source": [
    "### Tools and database"
   ]
  },
  {
   "cell_type": "code",
   "execution_count": 1,
   "metadata": {},
   "outputs": [],
   "source": [
    "import numpy as np\n",
    "import pandas as pd\n",
    "import matplotlib.pyplot as plt"
   ]
  },
  {
   "cell_type": "markdown",
   "metadata": {},
   "source": [
    "Load database"
   ]
  },
  {
   "cell_type": "code",
   "execution_count": 2,
   "metadata": {},
   "outputs": [
    {
     "data": {
      "text/plain": [
       "3491"
      ]
     },
     "execution_count": 2,
     "metadata": {},
     "output_type": "execute_result"
    }
   ],
   "source": [
    "df = pd.read_csv('Electronic_PL_sample_database.csv')\n",
    "len(df.index)"
   ]
  },
  {
   "cell_type": "code",
   "execution_count": 3,
   "metadata": {},
   "outputs": [
    {
     "data": {
      "text/plain": [
       "Index(['Unnamed: 0', 'id', 'title', 'price', 'ratio', 'start', 'avg_rating',\n",
       "       'rating_count', 'low', 'med', 'high', 'want', 'have', 'seller',\n",
       "       'ships_from', 'label', 'last_sold', 'for_sale', 'url', 'styles',\n",
       "       'comment', 'condition', 'shipping_cost', 'hi-low', 'discount', 'hi-med',\n",
       "       'bargain_label'],\n",
       "      dtype='object')"
      ]
     },
     "execution_count": 3,
     "metadata": {},
     "output_type": "execute_result"
    }
   ],
   "source": [
    "df.columns"
   ]
  },
  {
   "cell_type": "markdown",
   "metadata": {},
   "source": [
    "Not all columns will be used in this notebook, they are here for further need. For printing consistent we will use specific  view."
   ]
  },
  {
   "cell_type": "code",
   "execution_count": 4,
   "metadata": {},
   "outputs": [],
   "source": [
    "print_view = ['discount', 'title', 'start', 'price', 'med', 'high', 'url', 'want', 'have', 'for_sale']"
   ]
  },
  {
   "cell_type": "markdown",
   "metadata": {},
   "source": [
    "### Database overview"
   ]
  },
  {
   "cell_type": "markdown",
   "metadata": {},
   "source": [
    "Let's get some basic knowledge about the data shape. \n",
    "\n",
    "In sample database, we use merged databases scraped during three sessions narrowed to sellers from Poland. Let's make some queries for top values in important columns."
   ]
  },
  {
   "cell_type": "code",
   "execution_count": 5,
   "metadata": {},
   "outputs": [
    {
     "data": {
      "text/plain": [
       "House_PL          1815\n",
       "Drum+n+Bass_PL    1391\n",
       "Breakbeat_PL       285\n",
       "Name: label, dtype: int64"
      ]
     },
     "execution_count": 5,
     "metadata": {},
     "output_type": "execute_result"
    }
   ],
   "source": [
    "df['label'].value_counts().head(5)"
   ]
  },
  {
   "cell_type": "code",
   "execution_count": 6,
   "metadata": {},
   "outputs": [
    {
     "data": {
      "text/plain": [
       "Poland    3491\n",
       "Name: ships_from, dtype: int64"
      ]
     },
     "execution_count": 6,
     "metadata": {},
     "output_type": "execute_result"
    }
   ],
   "source": [
    "df['ships_from'].value_counts().head(5)"
   ]
  },
  {
   "cell_type": "code",
   "execution_count": 7,
   "metadata": {},
   "outputs": [
    {
     "data": {
      "text/plain": [
       "['House']              377\n",
       "['Techno']             313\n",
       "['House;DeepHouse']    202\n",
       "['House;Techno']       175\n",
       "['Techno;House']        56\n",
       "Name: styles, dtype: int64"
      ]
     },
     "execution_count": 7,
     "metadata": {},
     "output_type": "execute_result"
    }
   ],
   "source": [
    "df['styles'].value_counts().head(5)"
   ]
  },
  {
   "cell_type": "code",
   "execution_count": 8,
   "metadata": {},
   "outputs": [
    {
     "data": {
      "text/plain": [
       "Mint (M)                1400\n",
       "Very Good Plus (VG+)    1107\n",
       "Near Mint (NM or M-)     984\n",
       "Name: condition, dtype: int64"
      ]
     },
     "execution_count": 8,
     "metadata": {},
     "output_type": "execute_result"
    }
   ],
   "source": [
    "df['condition'].value_counts().head(5)"
   ]
  },
  {
   "cell_type": "code",
   "execution_count": 9,
   "metadata": {},
   "outputs": [
    {
     "data": {
      "text/plain": [
       "expensive     1029\n",
       "good          1005\n",
       "overpriced     607\n",
       "greedy         459\n",
       "very nice      391\n",
       "Name: bargain_label, dtype: int64"
      ]
     },
     "execution_count": 9,
     "metadata": {},
     "output_type": "execute_result"
    }
   ],
   "source": [
    "df['bargain_label'].value_counts().head(5)"
   ]
  },
  {
   "cell_type": "markdown",
   "metadata": {},
   "source": [
    "This market pricing is usually close to sales history median (labelled as `good`), but often is more `expensive`, even `overpriced` or `greedy`. We would like to focus on `very nice` prices as they are lower than 85% of sales history median"
   ]
  },
  {
   "cell_type": "markdown",
   "metadata": {},
   "source": [
    "## Price Analysis"
   ]
  },
  {
   "cell_type": "markdown",
   "metadata": {},
   "source": [
    "### Seller market\n",
    "\n",
    "By adding some conditions, we can find more valuable information about the market."
   ]
  },
  {
   "cell_type": "markdown",
   "metadata": {},
   "source": [
    "<i>\"Which seller has the <b>cheapest records</b> and how much of them are in his offer?\"</i>"
   ]
  },
  {
   "cell_type": "code",
   "execution_count": 10,
   "metadata": {},
   "outputs": [
    {
     "data": {
      "text/plain": [
       "Cyman-Records        47\n",
       "lonhaul              36\n",
       "bartoszkruczynski    34\n",
       "dusty-diggers        29\n",
       "UzywanaMuzyka        16\n",
       "Name: seller, dtype: int64"
      ]
     },
     "execution_count": 10,
     "metadata": {},
     "output_type": "execute_result"
    }
   ],
   "source": [
    "# 'very nice' label means price is lower than 85% of sale history median\n",
    "df[df['bargain_label'] == 'very nice']['seller'].value_counts().head(5)"
   ]
  },
  {
   "cell_type": "markdown",
   "metadata": {},
   "source": [
    "<i>\"Which seller has the <b>most expensive records</b> and how much of them are in his offer?\"</i>"
   ]
  },
  {
   "cell_type": "code",
   "execution_count": 11,
   "metadata": {},
   "outputs": [
    {
     "data": {
      "text/plain": [
       "dj.romy          47\n",
       "gadzieciak       42\n",
       "goodmusic4u      33\n",
       "spertusiak85     33\n",
       "HeyJoeRecords    26\n",
       "Name: seller, dtype: int64"
      ]
     },
     "execution_count": 11,
     "metadata": {},
     "output_type": "execute_result"
    }
   ],
   "source": [
    "# 'greedy' label means price is higher than 220% of sale history median`\n",
    "df[df['bargain_label'] == 'greedy']['seller'].value_counts().head(5)"
   ]
  },
  {
   "cell_type": "markdown",
   "metadata": {},
   "source": [
    "### Seller pricing audit"
   ]
  },
  {
   "cell_type": "markdown",
   "metadata": {},
   "source": [
    "In similar way we can make a quick pricing audit in scope of bargains for sellers from top of both lists\n",
    "\n",
    "<i>\"How looks <b>pricing principles</b> for particular seller?\"</i>"
   ]
  },
  {
   "cell_type": "code",
   "execution_count": 12,
   "metadata": {},
   "outputs": [
    {
     "data": {
      "text/plain": [
       "good          162\n",
       "very nice      47\n",
       "expensive      30\n",
       "overpriced      2\n",
       "Name: bargain_label, dtype: int64"
      ]
     },
     "execution_count": 12,
     "metadata": {},
     "output_type": "execute_result"
    }
   ],
   "source": [
    "df[df['seller'] == 'Cyman-Records']['bargain_label'].value_counts().head(5)"
   ]
  },
  {
   "cell_type": "code",
   "execution_count": 13,
   "metadata": {},
   "outputs": [
    {
     "data": {
      "text/plain": [
       "greedy        47\n",
       "overpriced    16\n",
       "expensive      7\n",
       "good           1\n",
       "Name: bargain_label, dtype: int64"
      ]
     },
     "execution_count": 13,
     "metadata": {},
     "output_type": "execute_result"
    }
   ],
   "source": [
    "df[df['seller'] == 'dj.romy']['bargain_label'].value_counts().head(5)"
   ]
  },
  {
   "cell_type": "markdown",
   "metadata": {},
   "source": [
    "### Discounts"
   ]
  },
  {
   "cell_type": "markdown",
   "metadata": {},
   "source": [
    "Discount is the main factor for profitability. It should be calculated before while <a href='convert.ipynb'>preparing</a> data so we can use it as sorting indicator in our formula."
   ]
  },
  {
   "cell_type": "code",
   "execution_count": 14,
   "metadata": {},
   "outputs": [
    {
     "data": {
      "text/html": [
       "<div>\n",
       "<style scoped>\n",
       "    .dataframe tbody tr th:only-of-type {\n",
       "        vertical-align: middle;\n",
       "    }\n",
       "\n",
       "    .dataframe tbody tr th {\n",
       "        vertical-align: top;\n",
       "    }\n",
       "\n",
       "    .dataframe thead th {\n",
       "        text-align: right;\n",
       "    }\n",
       "</style>\n",
       "<table border=\"1\" class=\"dataframe\">\n",
       "  <thead>\n",
       "    <tr style=\"text-align: right;\">\n",
       "      <th></th>\n",
       "      <th>discount</th>\n",
       "      <th>title</th>\n",
       "      <th>start</th>\n",
       "      <th>price</th>\n",
       "      <th>med</th>\n",
       "      <th>high</th>\n",
       "      <th>url</th>\n",
       "      <th>want</th>\n",
       "      <th>have</th>\n",
       "      <th>for_sale</th>\n",
       "    </tr>\n",
       "  </thead>\n",
       "  <tbody>\n",
       "    <tr>\n",
       "      <td>494</td>\n",
       "      <td>18.40</td>\n",
       "      <td>b'Ubik - Just Add People (LP, Album)'</td>\n",
       "      <td>27.36</td>\n",
       "      <td>40.00</td>\n",
       "      <td>58.40</td>\n",
       "      <td>71.14</td>\n",
       "      <td>https://www.discogs.com/sell/item/1081220481</td>\n",
       "      <td>459</td>\n",
       "      <td>74</td>\n",
       "      <td>15</td>\n",
       "    </tr>\n",
       "    <tr>\n",
       "      <td>1761</td>\n",
       "      <td>11.58</td>\n",
       "      <td>b'John Swing / EMG - LiveJam Limited 001 (12\",...</td>\n",
       "      <td>2.45</td>\n",
       "      <td>6.90</td>\n",
       "      <td>18.48</td>\n",
       "      <td>25.00</td>\n",
       "      <td>https://www.discogs.com/sell/item/842295550</td>\n",
       "      <td>174</td>\n",
       "      <td>127</td>\n",
       "      <td>24</td>\n",
       "    </tr>\n",
       "    <tr>\n",
       "      <td>659</td>\n",
       "      <td>11.37</td>\n",
       "      <td>b'Shed / Don Williams / Sven Weisemann - 2nd B...</td>\n",
       "      <td>9.00</td>\n",
       "      <td>9.00</td>\n",
       "      <td>20.37</td>\n",
       "      <td>25.00</td>\n",
       "      <td>https://www.discogs.com/sell/item/1162546824</td>\n",
       "      <td>397</td>\n",
       "      <td>233</td>\n",
       "      <td>14</td>\n",
       "    </tr>\n",
       "    <tr>\n",
       "      <td>1972</td>\n",
       "      <td>11.10</td>\n",
       "      <td>b'Groove Armada - Goodbye Country (Hello Night...</td>\n",
       "      <td>18.00</td>\n",
       "      <td>28.90</td>\n",
       "      <td>40.00</td>\n",
       "      <td>69.00</td>\n",
       "      <td>https://www.discogs.com/sell/item/792637073</td>\n",
       "      <td>316</td>\n",
       "      <td>261</td>\n",
       "      <td>24</td>\n",
       "    </tr>\n",
       "    <tr>\n",
       "      <td>1713</td>\n",
       "      <td>11.05</td>\n",
       "      <td>b'Teluric - Pulsa\\xc5\\xa3ii Profunde (12\", EP)'</td>\n",
       "      <td>10.79</td>\n",
       "      <td>12.90</td>\n",
       "      <td>23.95</td>\n",
       "      <td>33.25</td>\n",
       "      <td>https://www.discogs.com/sell/item/1148905703</td>\n",
       "      <td>313</td>\n",
       "      <td>330</td>\n",
       "      <td>29</td>\n",
       "    </tr>\n",
       "    <tr>\n",
       "      <td>614</td>\n",
       "      <td>10.98</td>\n",
       "      <td>b'Dino Sabatini - Modulated Waves (12\")'</td>\n",
       "      <td>12.71</td>\n",
       "      <td>13.00</td>\n",
       "      <td>23.98</td>\n",
       "      <td>40.00</td>\n",
       "      <td>https://www.discogs.com/sell/item/1169040671</td>\n",
       "      <td>190</td>\n",
       "      <td>127</td>\n",
       "      <td>15</td>\n",
       "    </tr>\n",
       "    <tr>\n",
       "      <td>1746</td>\n",
       "      <td>10.18</td>\n",
       "      <td>b'Sassy J - Patchwork (2x12\", Comp + 7\" + S/Ed...</td>\n",
       "      <td>11.90</td>\n",
       "      <td>11.90</td>\n",
       "      <td>22.08</td>\n",
       "      <td>29.71</td>\n",
       "      <td>https://www.discogs.com/sell/item/1041085741</td>\n",
       "      <td>144</td>\n",
       "      <td>137</td>\n",
       "      <td>18</td>\n",
       "    </tr>\n",
       "    <tr>\n",
       "      <td>3016</td>\n",
       "      <td>9.63</td>\n",
       "      <td>b'Pola (11) - XXXIII (12\", EP)'</td>\n",
       "      <td>9.19</td>\n",
       "      <td>10.99</td>\n",
       "      <td>20.62</td>\n",
       "      <td>33.12</td>\n",
       "      <td>https://www.discogs.com/sell/item/1175263148</td>\n",
       "      <td>295</td>\n",
       "      <td>203</td>\n",
       "      <td>15</td>\n",
       "    </tr>\n",
       "    <tr>\n",
       "      <td>2046</td>\n",
       "      <td>8.95</td>\n",
       "      <td>b'Bufiman / Tim Schumacher (3) - Manifest#003 ...</td>\n",
       "      <td>15.00</td>\n",
       "      <td>15.00</td>\n",
       "      <td>23.95</td>\n",
       "      <td>35.00</td>\n",
       "      <td>https://www.discogs.com/sell/item/1039981956</td>\n",
       "      <td>451</td>\n",
       "      <td>117</td>\n",
       "      <td>10</td>\n",
       "    </tr>\n",
       "    <tr>\n",
       "      <td>753</td>\n",
       "      <td>8.45</td>\n",
       "      <td>b'Suguru Kusumi - Usktot EP (12\", EP)'</td>\n",
       "      <td>9.90</td>\n",
       "      <td>10.00</td>\n",
       "      <td>18.45</td>\n",
       "      <td>22.94</td>\n",
       "      <td>https://www.discogs.com/sell/item/1140298564</td>\n",
       "      <td>592</td>\n",
       "      <td>246</td>\n",
       "      <td>33</td>\n",
       "    </tr>\n",
       "    <tr>\n",
       "      <td>296</td>\n",
       "      <td>7.72</td>\n",
       "      <td>b'Jonathan Kusuma - Automatone (12\")'</td>\n",
       "      <td>29.90</td>\n",
       "      <td>29.90</td>\n",
       "      <td>37.62</td>\n",
       "      <td>55.00</td>\n",
       "      <td>https://www.discogs.com/sell/item/1175328888</td>\n",
       "      <td>215</td>\n",
       "      <td>87</td>\n",
       "      <td>3</td>\n",
       "    </tr>\n",
       "    <tr>\n",
       "      <td>1718</td>\n",
       "      <td>7.71</td>\n",
       "      <td>b'Mark* &amp; Matt Thibideau - Two Sides (12\", EP)'</td>\n",
       "      <td>10.00</td>\n",
       "      <td>12.90</td>\n",
       "      <td>20.61</td>\n",
       "      <td>25.00</td>\n",
       "      <td>https://www.discogs.com/sell/item/1147363564</td>\n",
       "      <td>206</td>\n",
       "      <td>310</td>\n",
       "      <td>31</td>\n",
       "    </tr>\n",
       "    <tr>\n",
       "      <td>1755</td>\n",
       "      <td>7.60</td>\n",
       "      <td>b'Various - C\\'est La Vii (2x12\", EP, Sil)'</td>\n",
       "      <td>4.90</td>\n",
       "      <td>4.90</td>\n",
       "      <td>12.50</td>\n",
       "      <td>17.00</td>\n",
       "      <td>https://www.discogs.com/sell/item/904840865</td>\n",
       "      <td>202</td>\n",
       "      <td>204</td>\n",
       "      <td>34</td>\n",
       "    </tr>\n",
       "    <tr>\n",
       "      <td>353</td>\n",
       "      <td>7.46</td>\n",
       "      <td>b'SNTS - Scene II (12\", Ltd)'</td>\n",
       "      <td>9.99</td>\n",
       "      <td>10.49</td>\n",
       "      <td>17.95</td>\n",
       "      <td>77.77</td>\n",
       "      <td>https://www.discogs.com/sell/item/1118831848</td>\n",
       "      <td>186</td>\n",
       "      <td>154</td>\n",
       "      <td>10</td>\n",
       "    </tr>\n",
       "    <tr>\n",
       "      <td>721</td>\n",
       "      <td>7.45</td>\n",
       "      <td>b'Various - Techno Trax Vol. 6 (2xLP, Comp)'</td>\n",
       "      <td>3.00</td>\n",
       "      <td>5.00</td>\n",
       "      <td>12.45</td>\n",
       "      <td>25.00</td>\n",
       "      <td>https://www.discogs.com/sell/item/1156242415</td>\n",
       "      <td>112</td>\n",
       "      <td>115</td>\n",
       "      <td>9</td>\n",
       "    </tr>\n",
       "  </tbody>\n",
       "</table>\n",
       "</div>"
      ],
      "text/plain": [
       "      discount                                              title  start  \\\n",
       "494      18.40              b'Ubik - Just Add People (LP, Album)'  27.36   \n",
       "1761     11.58  b'John Swing / EMG - LiveJam Limited 001 (12\",...   2.45   \n",
       "659      11.37  b'Shed / Don Williams / Sven Weisemann - 2nd B...   9.00   \n",
       "1972     11.10  b'Groove Armada - Goodbye Country (Hello Night...  18.00   \n",
       "1713     11.05    b'Teluric - Pulsa\\xc5\\xa3ii Profunde (12\", EP)'  10.79   \n",
       "614      10.98           b'Dino Sabatini - Modulated Waves (12\")'  12.71   \n",
       "1746     10.18  b'Sassy J - Patchwork (2x12\", Comp + 7\" + S/Ed...  11.90   \n",
       "3016      9.63                    b'Pola (11) - XXXIII (12\", EP)'   9.19   \n",
       "2046      8.95  b'Bufiman / Tim Schumacher (3) - Manifest#003 ...  15.00   \n",
       "753       8.45             b'Suguru Kusumi - Usktot EP (12\", EP)'   9.90   \n",
       "296       7.72              b'Jonathan Kusuma - Automatone (12\")'  29.90   \n",
       "1718      7.71    b'Mark* & Matt Thibideau - Two Sides (12\", EP)'  10.00   \n",
       "1755      7.60        b'Various - C\\'est La Vii (2x12\", EP, Sil)'   4.90   \n",
       "353       7.46                      b'SNTS - Scene II (12\", Ltd)'   9.99   \n",
       "721       7.45       b'Various - Techno Trax Vol. 6 (2xLP, Comp)'   3.00   \n",
       "\n",
       "      price    med   high                                           url  want  \\\n",
       "494   40.00  58.40  71.14  https://www.discogs.com/sell/item/1081220481   459   \n",
       "1761   6.90  18.48  25.00   https://www.discogs.com/sell/item/842295550   174   \n",
       "659    9.00  20.37  25.00  https://www.discogs.com/sell/item/1162546824   397   \n",
       "1972  28.90  40.00  69.00   https://www.discogs.com/sell/item/792637073   316   \n",
       "1713  12.90  23.95  33.25  https://www.discogs.com/sell/item/1148905703   313   \n",
       "614   13.00  23.98  40.00  https://www.discogs.com/sell/item/1169040671   190   \n",
       "1746  11.90  22.08  29.71  https://www.discogs.com/sell/item/1041085741   144   \n",
       "3016  10.99  20.62  33.12  https://www.discogs.com/sell/item/1175263148   295   \n",
       "2046  15.00  23.95  35.00  https://www.discogs.com/sell/item/1039981956   451   \n",
       "753   10.00  18.45  22.94  https://www.discogs.com/sell/item/1140298564   592   \n",
       "296   29.90  37.62  55.00  https://www.discogs.com/sell/item/1175328888   215   \n",
       "1718  12.90  20.61  25.00  https://www.discogs.com/sell/item/1147363564   206   \n",
       "1755   4.90  12.50  17.00   https://www.discogs.com/sell/item/904840865   202   \n",
       "353   10.49  17.95  77.77  https://www.discogs.com/sell/item/1118831848   186   \n",
       "721    5.00  12.45  25.00  https://www.discogs.com/sell/item/1156242415   112   \n",
       "\n",
       "      have  for_sale  \n",
       "494     74        15  \n",
       "1761   127        24  \n",
       "659    233        14  \n",
       "1972   261        24  \n",
       "1713   330        29  \n",
       "614    127        15  \n",
       "1746   137        18  \n",
       "3016   203        15  \n",
       "2046   117        10  \n",
       "753    246        33  \n",
       "296     87         3  \n",
       "1718   310        31  \n",
       "1755   204        34  \n",
       "353    154        10  \n",
       "721    115         9  "
      ]
     },
     "execution_count": 14,
     "metadata": {},
     "output_type": "execute_result"
    }
   ],
   "source": [
    "df[print_view].sort_values(by='discount', ascending=False).head(15)"
   ]
  },
  {
   "cell_type": "markdown",
   "metadata": {},
   "source": [
    "The list above contain the highest discounts from dataset. \n",
    "We are much closer to reach best bargains, for now we already protected:\n",
    "- condition at least VG+\n",
    "- high number of potential buyers - `want` column\n",
    "- `price` well below `median` and `high` - profit\n",
    "\n",
    "Let's take a look at some trends."
   ]
  },
  {
   "cell_type": "markdown",
   "metadata": {},
   "source": [
    "### Graphic analysis\n",
    "\n",
    "For graphs, I will write simple function which takes:\n",
    "- columns we want to present `cols`\n",
    "- sorting base argument `sort_by` \n",
    "- default kind of plot `line`\n",
    "- default ascend `False` to see only positive values\n",
    "- default head = 30 to limit output."
   ]
  },
  {
   "cell_type": "code",
   "execution_count": 15,
   "metadata": {},
   "outputs": [],
   "source": [
    "def plot(cols, sort_by, kind='line', ascend=False, head=30):\n",
    "    df2 = df[cols].sort_values(by=sort_by, ascending=ascend)\n",
    "    df2.head(head).plot(kind=kind, x='seller', figsize=(12, 6))\n",
    "    plt.title('sort by {}'.format(sort_by))\n",
    "    plt.ylabel('EUR')"
   ]
  },
  {
   "cell_type": "code",
   "execution_count": 16,
   "metadata": {},
   "outputs": [
    {
     "data": {
      "image/png": "[encoded data removed]",
      "text/plain": [
       "<Figure size 864x432 with 1 Axes>"
      ]
     },
     "metadata": {
      "needs_background": "light"
     },
     "output_type": "display_data"
    }
   ],
   "source": [
    "cols = [ 'discount', 'start', 'price', 'med', 'high', 'title', 'seller']\n",
    "plot(cols, 'discount', kind='box', head=30)"
   ]
  },
  {
   "cell_type": "markdown",
   "metadata": {},
   "source": [
    "In the box diagram, we see price ranges of 30 highest discount offers.\n",
    "The price box is very close to start box at the scale, while med and high boxes are significantly moved up. That means these records are worth more than they are valued by seller and very close to the lowest prices on the market."
   ]
  },
  {
   "cell_type": "markdown",
   "metadata": {},
   "source": [
    "How it look on the line plot?"
   ]
  },
  {
   "cell_type": "code",
   "execution_count": 17,
   "metadata": {},
   "outputs": [
    {
     "data": {
      "image/png": "[encoded data removed]",
      "text/plain": [
       "<Figure size 864x432 with 1 Axes>"
      ]
     },
     "metadata": {
      "needs_background": "light"
     },
     "output_type": "display_data"
    }
   ],
   "source": [
    "cols = [ 'start', 'price', 'med', 'high', 'title', 'discount', 'seller']\n",
    "plot(cols, 'discount', kind='line', ascend=False, head=30)"
   ]
  },
  {
   "cell_type": "markdown",
   "metadata": {},
   "source": [
    "Discount is slightly changing while other prices differ on scale. The common is distance between \n",
    "<font color='orange'>price</font>, \n",
    "<font color='green'>med</font> and \n",
    "<font color='red'>high</font> lines and proximity of \n",
    "<font color='orange'>price</font> and \n",
    "<font color='blue'>start</font> lines which are very often at the same level.\n",
    "This is just other visual description of what we already have seen on box diagram. "
   ]
  },
  {
   "cell_type": "markdown",
   "metadata": {},
   "source": [
    "### Negative discount"
   ]
  },
  {
   "cell_type": "markdown",
   "metadata": {},
   "source": [
    "Negative discount is a profit for seller in relation to median.\n",
    "Changing argument `ascend=True` in `plot` function will show the most expensive records."
   ]
  },
  {
   "cell_type": "code",
   "execution_count": 18,
   "metadata": {},
   "outputs": [
    {
     "data": {
      "image/png": "[encoded data removed]",
      "text/plain": [
       "<Figure size 864x432 with 1 Axes>"
      ]
     },
     "metadata": {
      "needs_background": "light"
     },
     "output_type": "display_data"
    }
   ],
   "source": [
    "plot(cols, 'discount', kind='line', ascend=True)"
   ]
  },
  {
   "cell_type": "markdown",
   "metadata": {},
   "source": [
    "These prices seems to be \"sellers wishes\" as we can see the <font color='orange'>price</font> is rather above the <font color='red'>highest</font> possible record sales. "
   ]
  },
  {
   "cell_type": "markdown",
   "metadata": {},
   "source": [
    "## Supply and Demand Analysis"
   ]
  },
  {
   "cell_type": "markdown",
   "metadata": {},
   "source": [
    "### Rare and valuable"
   ]
  },
  {
   "cell_type": "markdown",
   "metadata": {},
   "source": [
    "An interesting phenomenon from last diagram is <font color='blue'>start</font> line above <font color='red'>high</font>. These are hard-to-find records, whose owners probably believe they have one of the last items on market, so their market price is started above highest price from sale history. It's not a best bargain here, but these hard-to-find records probably will gain in value in future, so they also could be consider as kind of investments in some terms."
   ]
  },
  {
   "cell_type": "code",
   "execution_count": 19,
   "metadata": {},
   "outputs": [
    {
     "data": {
      "text/plain": [
       "45"
      ]
     },
     "execution_count": 19,
     "metadata": {},
     "output_type": "execute_result"
    }
   ],
   "source": [
    "len(df[df['start'] > df['high']])"
   ]
  },
  {
   "cell_type": "code",
   "execution_count": 20,
   "metadata": {},
   "outputs": [
    {
     "data": {
      "text/html": [
       "<div>\n",
       "<style scoped>\n",
       "    .dataframe tbody tr th:only-of-type {\n",
       "        vertical-align: middle;\n",
       "    }\n",
       "\n",
       "    .dataframe tbody tr th {\n",
       "        vertical-align: top;\n",
       "    }\n",
       "\n",
       "    .dataframe thead th {\n",
       "        text-align: right;\n",
       "    }\n",
       "</style>\n",
       "<table border=\"1\" class=\"dataframe\">\n",
       "  <thead>\n",
       "    <tr style=\"text-align: right;\">\n",
       "      <th></th>\n",
       "      <th>discount</th>\n",
       "      <th>title</th>\n",
       "      <th>start</th>\n",
       "      <th>price</th>\n",
       "      <th>med</th>\n",
       "      <th>high</th>\n",
       "      <th>url</th>\n",
       "      <th>want</th>\n",
       "      <th>have</th>\n",
       "      <th>for_sale</th>\n",
       "    </tr>\n",
       "  </thead>\n",
       "  <tbody>\n",
       "    <tr>\n",
       "      <td>53</td>\n",
       "      <td>-5.52</td>\n",
       "      <td>b'Dougal &amp; Evolution (31) / Clarkee* &amp; Phantas...</td>\n",
       "      <td>14.35</td>\n",
       "      <td>14.35</td>\n",
       "      <td>8.83</td>\n",
       "      <td>13.24</td>\n",
       "      <td>https://www.discogs.com/sell/item/1180324272</td>\n",
       "      <td>216</td>\n",
       "      <td>318</td>\n",
       "      <td>3</td>\n",
       "    </tr>\n",
       "    <tr>\n",
       "      <td>65</td>\n",
       "      <td>-35.10</td>\n",
       "      <td>b'Afrika Bambaataa &amp; WestBam Present I.F.O. - ...</td>\n",
       "      <td>21.25</td>\n",
       "      <td>50.00</td>\n",
       "      <td>14.90</td>\n",
       "      <td>17.00</td>\n",
       "      <td>https://www.discogs.com/sell/item/1082693929</td>\n",
       "      <td>103</td>\n",
       "      <td>68</td>\n",
       "      <td>4</td>\n",
       "    </tr>\n",
       "    <tr>\n",
       "      <td>162</td>\n",
       "      <td>-11.03</td>\n",
       "      <td>b'Various - The Future EP (12\", EP)'</td>\n",
       "      <td>22.08</td>\n",
       "      <td>27.59</td>\n",
       "      <td>16.56</td>\n",
       "      <td>22.07</td>\n",
       "      <td>https://www.discogs.com/sell/item/1046479800</td>\n",
       "      <td>109</td>\n",
       "      <td>121</td>\n",
       "      <td>5</td>\n",
       "    </tr>\n",
       "    <tr>\n",
       "      <td>175</td>\n",
       "      <td>-18.17</td>\n",
       "      <td>b'Desired State - Expansion / Dance The Dream ...</td>\n",
       "      <td>40.00</td>\n",
       "      <td>43.00</td>\n",
       "      <td>24.83</td>\n",
       "      <td>38.64</td>\n",
       "      <td>https://www.discogs.com/sell/item/409023543</td>\n",
       "      <td>342</td>\n",
       "      <td>292</td>\n",
       "      <td>3</td>\n",
       "    </tr>\n",
       "    <tr>\n",
       "      <td>219</td>\n",
       "      <td>-71.62</td>\n",
       "      <td>b'The DSC - The DSC EP (2x12\", EP, Ltd)'</td>\n",
       "      <td>67.50</td>\n",
       "      <td>109.29</td>\n",
       "      <td>37.67</td>\n",
       "      <td>66.23</td>\n",
       "      <td>https://www.discogs.com/sell/item/396474236</td>\n",
       "      <td>148</td>\n",
       "      <td>100</td>\n",
       "      <td>2</td>\n",
       "    </tr>\n",
       "    <tr>\n",
       "      <td>267</td>\n",
       "      <td>-110.70</td>\n",
       "      <td>b\"Smoove - Dead Men's Shirts (2xLP)\"</td>\n",
       "      <td>50.00</td>\n",
       "      <td>139.00</td>\n",
       "      <td>28.30</td>\n",
       "      <td>47.50</td>\n",
       "      <td>https://www.discogs.com/sell/item/621584796</td>\n",
       "      <td>141</td>\n",
       "      <td>74</td>\n",
       "      <td>3</td>\n",
       "    </tr>\n",
       "    <tr>\n",
       "      <td>502</td>\n",
       "      <td>-49.00</td>\n",
       "      <td>b'Ekeaze - Acid Is Back (12\")'</td>\n",
       "      <td>99.00</td>\n",
       "      <td>99.00</td>\n",
       "      <td>50.00</td>\n",
       "      <td>57.00</td>\n",
       "      <td>https://www.discogs.com/sell/item/997894753</td>\n",
       "      <td>298</td>\n",
       "      <td>198</td>\n",
       "      <td>1</td>\n",
       "    </tr>\n",
       "    <tr>\n",
       "      <td>517</td>\n",
       "      <td>-25.00</td>\n",
       "      <td>b'Falcom - Hypnotik 06 (12\")'</td>\n",
       "      <td>50.00</td>\n",
       "      <td>50.00</td>\n",
       "      <td>25.00</td>\n",
       "      <td>45.00</td>\n",
       "      <td>https://www.discogs.com/sell/item/997895021</td>\n",
       "      <td>152</td>\n",
       "      <td>129</td>\n",
       "      <td>1</td>\n",
       "    </tr>\n",
       "    <tr>\n",
       "      <td>557</td>\n",
       "      <td>-476.50</td>\n",
       "      <td>b'Cheech - Chicago Wild / Bassline (12\")'</td>\n",
       "      <td>218.87</td>\n",
       "      <td>500.00</td>\n",
       "      <td>23.50</td>\n",
       "      <td>93.03</td>\n",
       "      <td>https://www.discogs.com/sell/item/961111746</td>\n",
       "      <td>523</td>\n",
       "      <td>71</td>\n",
       "      <td>5</td>\n",
       "    </tr>\n",
       "    <tr>\n",
       "      <td>585</td>\n",
       "      <td>-18.23</td>\n",
       "      <td>b'Direct - Let It Ride (Remix) (12\", RE, Sil)'</td>\n",
       "      <td>24.98</td>\n",
       "      <td>24.98</td>\n",
       "      <td>6.75</td>\n",
       "      <td>16.42</td>\n",
       "      <td>https://www.discogs.com/sell/item/779517809</td>\n",
       "      <td>245</td>\n",
       "      <td>27</td>\n",
       "      <td>4</td>\n",
       "    </tr>\n",
       "  </tbody>\n",
       "</table>\n",
       "</div>"
      ],
      "text/plain": [
       "     discount                                              title   start  \\\n",
       "53      -5.52  b'Dougal & Evolution (31) / Clarkee* & Phantas...   14.35   \n",
       "65     -35.10  b'Afrika Bambaataa & WestBam Present I.F.O. - ...   21.25   \n",
       "162    -11.03               b'Various - The Future EP (12\", EP)'   22.08   \n",
       "175    -18.17  b'Desired State - Expansion / Dance The Dream ...   40.00   \n",
       "219    -71.62           b'The DSC - The DSC EP (2x12\", EP, Ltd)'   67.50   \n",
       "267   -110.70               b\"Smoove - Dead Men's Shirts (2xLP)\"   50.00   \n",
       "502    -49.00                     b'Ekeaze - Acid Is Back (12\")'   99.00   \n",
       "517    -25.00                      b'Falcom - Hypnotik 06 (12\")'   50.00   \n",
       "557   -476.50          b'Cheech - Chicago Wild / Bassline (12\")'  218.87   \n",
       "585    -18.23     b'Direct - Let It Ride (Remix) (12\", RE, Sil)'   24.98   \n",
       "\n",
       "      price    med   high                                           url  want  \\\n",
       "53    14.35   8.83  13.24  https://www.discogs.com/sell/item/1180324272   216   \n",
       "65    50.00  14.90  17.00  https://www.discogs.com/sell/item/1082693929   103   \n",
       "162   27.59  16.56  22.07  https://www.discogs.com/sell/item/1046479800   109   \n",
       "175   43.00  24.83  38.64   https://www.discogs.com/sell/item/409023543   342   \n",
       "219  109.29  37.67  66.23   https://www.discogs.com/sell/item/396474236   148   \n",
       "267  139.00  28.30  47.50   https://www.discogs.com/sell/item/621584796   141   \n",
       "502   99.00  50.00  57.00   https://www.discogs.com/sell/item/997894753   298   \n",
       "517   50.00  25.00  45.00   https://www.discogs.com/sell/item/997895021   152   \n",
       "557  500.00  23.50  93.03   https://www.discogs.com/sell/item/961111746   523   \n",
       "585   24.98   6.75  16.42   https://www.discogs.com/sell/item/779517809   245   \n",
       "\n",
       "     have  for_sale  \n",
       "53    318         3  \n",
       "65     68         4  \n",
       "162   121         5  \n",
       "175   292         3  \n",
       "219   100         2  \n",
       "267    74         3  \n",
       "502   198         1  \n",
       "517   129         1  \n",
       "557    71         5  \n",
       "585    27         4  "
      ]
     },
     "execution_count": 20,
     "metadata": {},
     "output_type": "execute_result"
    }
   ],
   "source": [
    "df[df['start'] > df['high']][print_view].head(10)"
   ]
  },
  {
   "cell_type": "markdown",
   "metadata": {},
   "source": [
    "### Rarity"
   ]
  },
  {
   "cell_type": "markdown",
   "metadata": {},
   "source": [
    "Rarity is not always an indicator for good bargain or investment. Take a look at sorting by `have` value with `ascend=True`. "
   ]
  },
  {
   "cell_type": "code",
   "execution_count": 21,
   "metadata": {},
   "outputs": [
    {
     "data": {
      "text/html": [
       "<div>\n",
       "<style scoped>\n",
       "    .dataframe tbody tr th:only-of-type {\n",
       "        vertical-align: middle;\n",
       "    }\n",
       "\n",
       "    .dataframe tbody tr th {\n",
       "        vertical-align: top;\n",
       "    }\n",
       "\n",
       "    .dataframe thead th {\n",
       "        text-align: right;\n",
       "    }\n",
       "</style>\n",
       "<table border=\"1\" class=\"dataframe\">\n",
       "  <thead>\n",
       "    <tr style=\"text-align: right;\">\n",
       "      <th></th>\n",
       "      <th>discount</th>\n",
       "      <th>title</th>\n",
       "      <th>start</th>\n",
       "      <th>price</th>\n",
       "      <th>med</th>\n",
       "      <th>high</th>\n",
       "      <th>url</th>\n",
       "      <th>want</th>\n",
       "      <th>have</th>\n",
       "      <th>for_sale</th>\n",
       "    </tr>\n",
       "  </thead>\n",
       "  <tbody>\n",
       "    <tr>\n",
       "      <td>2261</td>\n",
       "      <td>-155.60</td>\n",
       "      <td>b'Unknown Artist - The Voice (12\", S/Sided, W/...</td>\n",
       "      <td>160.00</td>\n",
       "      <td>160.00</td>\n",
       "      <td>4.40</td>\n",
       "      <td>6.62</td>\n",
       "      <td>https://www.discogs.com/sell/item/1120847280</td>\n",
       "      <td>127</td>\n",
       "      <td>7</td>\n",
       "      <td>1</td>\n",
       "    </tr>\n",
       "    <tr>\n",
       "      <td>1256</td>\n",
       "      <td>-28.06</td>\n",
       "      <td>b'Melt (6) - The Calling (12\", W/Lbl, Sta)'</td>\n",
       "      <td>18.61</td>\n",
       "      <td>39.00</td>\n",
       "      <td>10.94</td>\n",
       "      <td>16.42</td>\n",
       "      <td>https://www.discogs.com/sell/item/639385343</td>\n",
       "      <td>104</td>\n",
       "      <td>9</td>\n",
       "      <td>2</td>\n",
       "    </tr>\n",
       "    <tr>\n",
       "      <td>1414</td>\n",
       "      <td>-2.20</td>\n",
       "      <td>b'S. Bicknell* - Lost Recordings #2 - How Can ...</td>\n",
       "      <td>8.76</td>\n",
       "      <td>8.76</td>\n",
       "      <td>6.56</td>\n",
       "      <td>6.57</td>\n",
       "      <td>https://www.discogs.com/sell/item/857249709</td>\n",
       "      <td>103</td>\n",
       "      <td>12</td>\n",
       "      <td>3</td>\n",
       "    </tr>\n",
       "    <tr>\n",
       "      <td>2552</td>\n",
       "      <td>-9.80</td>\n",
       "      <td>b'Gat Decor - Passion (12\", W/Lbl, Sta)'</td>\n",
       "      <td>19.00</td>\n",
       "      <td>19.00</td>\n",
       "      <td>9.20</td>\n",
       "      <td>29.95</td>\n",
       "      <td>https://www.discogs.com/sell/item/1110826889</td>\n",
       "      <td>328</td>\n",
       "      <td>13</td>\n",
       "      <td>2</td>\n",
       "    </tr>\n",
       "    <tr>\n",
       "      <td>1840</td>\n",
       "      <td>-24.50</td>\n",
       "      <td>b'Various - 1st Unit (12\")'</td>\n",
       "      <td>34.00</td>\n",
       "      <td>50.00</td>\n",
       "      <td>25.50</td>\n",
       "      <td>42.46</td>\n",
       "      <td>https://www.discogs.com/sell/item/1149406579</td>\n",
       "      <td>148</td>\n",
       "      <td>16</td>\n",
       "      <td>5</td>\n",
       "    </tr>\n",
       "  </tbody>\n",
       "</table>\n",
       "</div>"
      ],
      "text/plain": [
       "      discount                                              title   start  \\\n",
       "2261   -155.60  b'Unknown Artist - The Voice (12\", S/Sided, W/...  160.00   \n",
       "1256    -28.06        b'Melt (6) - The Calling (12\", W/Lbl, Sta)'   18.61   \n",
       "1414     -2.20  b'S. Bicknell* - Lost Recordings #2 - How Can ...    8.76   \n",
       "2552     -9.80           b'Gat Decor - Passion (12\", W/Lbl, Sta)'   19.00   \n",
       "1840    -24.50                        b'Various - 1st Unit (12\")'   34.00   \n",
       "\n",
       "       price    med   high                                           url  \\\n",
       "2261  160.00   4.40   6.62  https://www.discogs.com/sell/item/1120847280   \n",
       "1256   39.00  10.94  16.42   https://www.discogs.com/sell/item/639385343   \n",
       "1414    8.76   6.56   6.57   https://www.discogs.com/sell/item/857249709   \n",
       "2552   19.00   9.20  29.95  https://www.discogs.com/sell/item/1110826889   \n",
       "1840   50.00  25.50  42.46  https://www.discogs.com/sell/item/1149406579   \n",
       "\n",
       "      want  have  for_sale  \n",
       "2261   127     7         1  \n",
       "1256   104     9         2  \n",
       "1414   103    12         3  \n",
       "2552   328    13         2  \n",
       "1840   148    16         5  "
      ]
     },
     "execution_count": 21,
     "metadata": {},
     "output_type": "execute_result"
    }
   ],
   "source": [
    "df[print_view].sort_values(by='have', ascending=True).head(5)"
   ]
  },
  {
   "cell_type": "markdown",
   "metadata": {},
   "source": [
    "Above records are rare and looks hard-to-find (`have` and `for_sale` counts), but they are not the best bargains (`discount` count). \n",
    "\n",
    "That needs to apply more conditions and choose different sorting. "
   ]
  },
  {
   "cell_type": "markdown",
   "metadata": {},
   "source": [
    "### Want and have"
   ]
  },
  {
   "cell_type": "markdown",
   "metadata": {},
   "source": [
    "- supply is represented by `for_sale` \n",
    "- demand is represented by `want`\n",
    "- each `have` could change into `for_sale` in future\n"
   ]
  },
  {
   "cell_type": "markdown",
   "metadata": {},
   "source": [
    "For sorting purpose, create new column with `want` in relation to `have`."
   ]
  },
  {
   "cell_type": "code",
   "execution_count": 22,
   "metadata": {},
   "outputs": [],
   "source": [
    "# want/have ratio\n",
    "df['whratio'] = df['want'] / df['have']\n",
    "print_view.append('whratio')"
   ]
  },
  {
   "cell_type": "markdown",
   "metadata": {},
   "source": [
    "`whratio` describe 'want/have' relation as a value:\n",
    "- `whratio < 1` - more users have the record than want it\n",
    "- `whratio > 1` - more users want the record than have it\n",
    "- the higher `whratio` is - the more users want the record and the less user have it"
   ]
  },
  {
   "cell_type": "markdown",
   "metadata": {},
   "source": [
    "### Final Conditions\n",
    "\n",
    "The best bargains would be described as records in well condition, price and possibilitty to re-sell in future.\n",
    "Based on earlier analysis of prices and demand, this should be achieved by adjusting fields below:\n",
    "- `want > 200` -  possible buyers\n",
    "- `discount > 4` - value of discount\n",
    "- `for_sale < 15` - low market supply"
   ]
  },
  {
   "cell_type": "code",
   "execution_count": 23,
   "metadata": {},
   "outputs": [],
   "source": [
    "best_bargains = df[(df['want'] > 200) & (df['discount'] > 4) & (df['for_sale'] < 15)]"
   ]
  },
  {
   "cell_type": "code",
   "execution_count": 24,
   "metadata": {},
   "outputs": [
    {
     "name": "stdout",
     "output_type": "stream",
     "text": [
      "10 of 3491 offers left\n"
     ]
    }
   ],
   "source": [
    "print('{} of {} offers left'.format(len(best_bargains), len(df)))"
   ]
  },
  {
   "cell_type": "markdown",
   "metadata": {},
   "source": [
    "- sorted `by='whratio', ascending=False`"
   ]
  },
  {
   "cell_type": "code",
   "execution_count": 25,
   "metadata": {},
   "outputs": [],
   "source": [
    "# Add 'last_sold' column to see if any copies were sold lately\n",
    "print_view.append('last_sold')"
   ]
  },
  {
   "cell_type": "code",
   "execution_count": 26,
   "metadata": {},
   "outputs": [
    {
     "data": {
      "text/html": [
       "<div>\n",
       "<style scoped>\n",
       "    .dataframe tbody tr th:only-of-type {\n",
       "        vertical-align: middle;\n",
       "    }\n",
       "\n",
       "    .dataframe tbody tr th {\n",
       "        vertical-align: top;\n",
       "    }\n",
       "\n",
       "    .dataframe thead th {\n",
       "        text-align: right;\n",
       "    }\n",
       "</style>\n",
       "<table border=\"1\" class=\"dataframe\">\n",
       "  <thead>\n",
       "    <tr style=\"text-align: right;\">\n",
       "      <th></th>\n",
       "      <th>discount</th>\n",
       "      <th>title</th>\n",
       "      <th>start</th>\n",
       "      <th>price</th>\n",
       "      <th>med</th>\n",
       "      <th>high</th>\n",
       "      <th>url</th>\n",
       "      <th>want</th>\n",
       "      <th>have</th>\n",
       "      <th>for_sale</th>\n",
       "      <th>whratio</th>\n",
       "      <th>last_sold</th>\n",
       "    </tr>\n",
       "  </thead>\n",
       "  <tbody>\n",
       "    <tr>\n",
       "      <td>3206</td>\n",
       "      <td>5.00</td>\n",
       "      <td>b'grooveman Spot - Runnin\\' Pizza EP 1 (12\", EP)'</td>\n",
       "      <td>45.00</td>\n",
       "      <td>45.00</td>\n",
       "      <td>50.00</td>\n",
       "      <td>68.00</td>\n",
       "      <td>https://www.discogs.com/sell/item/1011224823</td>\n",
       "      <td>225</td>\n",
       "      <td>54</td>\n",
       "      <td>3</td>\n",
       "      <td>4.166667</td>\n",
       "      <td>Apr 20</td>\n",
       "    </tr>\n",
       "    <tr>\n",
       "      <td>2046</td>\n",
       "      <td>8.95</td>\n",
       "      <td>b'Bufiman / Tim Schumacher (3) - Manifest#003 ...</td>\n",
       "      <td>15.00</td>\n",
       "      <td>15.00</td>\n",
       "      <td>23.95</td>\n",
       "      <td>35.00</td>\n",
       "      <td>https://www.discogs.com/sell/item/1039981956</td>\n",
       "      <td>451</td>\n",
       "      <td>117</td>\n",
       "      <td>10</td>\n",
       "      <td>3.854701</td>\n",
       "      <td>Aug 20</td>\n",
       "    </tr>\n",
       "    <tr>\n",
       "      <td>2861</td>\n",
       "      <td>4.25</td>\n",
       "      <td>b'Jazz-N-Groove - Jazzy Grooves Volume 1 (12\")'</td>\n",
       "      <td>9.35</td>\n",
       "      <td>13.25</td>\n",
       "      <td>17.50</td>\n",
       "      <td>35.00</td>\n",
       "      <td>https://www.discogs.com/sell/item/614958065</td>\n",
       "      <td>523</td>\n",
       "      <td>153</td>\n",
       "      <td>14</td>\n",
       "      <td>3.418301</td>\n",
       "      <td>Sep 20</td>\n",
       "    </tr>\n",
       "    <tr>\n",
       "      <td>296</td>\n",
       "      <td>7.72</td>\n",
       "      <td>b'Jonathan Kusuma - Automatone (12\")'</td>\n",
       "      <td>29.90</td>\n",
       "      <td>29.90</td>\n",
       "      <td>37.62</td>\n",
       "      <td>55.00</td>\n",
       "      <td>https://www.discogs.com/sell/item/1175328888</td>\n",
       "      <td>215</td>\n",
       "      <td>87</td>\n",
       "      <td>3</td>\n",
       "      <td>2.471264</td>\n",
       "      <td>Aug 20</td>\n",
       "    </tr>\n",
       "    <tr>\n",
       "      <td>154</td>\n",
       "      <td>4.74</td>\n",
       "      <td>b'Da Juice - Hear The Angels (12\")'</td>\n",
       "      <td>6.66</td>\n",
       "      <td>12.00</td>\n",
       "      <td>16.74</td>\n",
       "      <td>25.24</td>\n",
       "      <td>https://www.discogs.com/sell/item/1025690021</td>\n",
       "      <td>272</td>\n",
       "      <td>125</td>\n",
       "      <td>14</td>\n",
       "      <td>2.176000</td>\n",
       "      <td>Jul 20</td>\n",
       "    </tr>\n",
       "    <tr>\n",
       "      <td>1007</td>\n",
       "      <td>4.60</td>\n",
       "      <td>b'Da Juice - Hear The Angels (12\")'</td>\n",
       "      <td>6.66</td>\n",
       "      <td>12.00</td>\n",
       "      <td>16.60</td>\n",
       "      <td>25.24</td>\n",
       "      <td>https://www.discogs.com/sell/item/1025690021</td>\n",
       "      <td>272</td>\n",
       "      <td>125</td>\n",
       "      <td>13</td>\n",
       "      <td>2.176000</td>\n",
       "      <td>Jul 20</td>\n",
       "    </tr>\n",
       "    <tr>\n",
       "      <td>1305</td>\n",
       "      <td>4.38</td>\n",
       "      <td>b'Leo Anibaldi - Aeon (2x12\")'</td>\n",
       "      <td>18.47</td>\n",
       "      <td>20.00</td>\n",
       "      <td>24.38</td>\n",
       "      <td>39.99</td>\n",
       "      <td>https://www.discogs.com/sell/item/963312887</td>\n",
       "      <td>489</td>\n",
       "      <td>250</td>\n",
       "      <td>9</td>\n",
       "      <td>1.956000</td>\n",
       "      <td>Oct 19</td>\n",
       "    </tr>\n",
       "    <tr>\n",
       "      <td>659</td>\n",
       "      <td>11.37</td>\n",
       "      <td>b'Shed / Don Williams / Sven Weisemann - 2nd B...</td>\n",
       "      <td>9.00</td>\n",
       "      <td>9.00</td>\n",
       "      <td>20.37</td>\n",
       "      <td>25.00</td>\n",
       "      <td>https://www.discogs.com/sell/item/1162546824</td>\n",
       "      <td>397</td>\n",
       "      <td>233</td>\n",
       "      <td>14</td>\n",
       "      <td>1.703863</td>\n",
       "      <td>Aug 20</td>\n",
       "    </tr>\n",
       "    <tr>\n",
       "      <td>3343</td>\n",
       "      <td>4.99</td>\n",
       "      <td>b'Nina Kraviz - Nina Kraviz (2xLP, Album, Gat)'</td>\n",
       "      <td>19.90</td>\n",
       "      <td>20.00</td>\n",
       "      <td>24.99</td>\n",
       "      <td>26.00</td>\n",
       "      <td>https://www.discogs.com/sell/item/1114785017</td>\n",
       "      <td>593</td>\n",
       "      <td>409</td>\n",
       "      <td>13</td>\n",
       "      <td>1.449878</td>\n",
       "      <td>Aug 20</td>\n",
       "    </tr>\n",
       "    <tr>\n",
       "      <td>843</td>\n",
       "      <td>5.32</td>\n",
       "      <td>b'Break The Limits - Break The Limits Part One...</td>\n",
       "      <td>10.00</td>\n",
       "      <td>10.00</td>\n",
       "      <td>15.32</td>\n",
       "      <td>19.90</td>\n",
       "      <td>https://www.discogs.com/sell/item/1141444959</td>\n",
       "      <td>225</td>\n",
       "      <td>177</td>\n",
       "      <td>13</td>\n",
       "      <td>1.271186</td>\n",
       "      <td>Jul 20</td>\n",
       "    </tr>\n",
       "  </tbody>\n",
       "</table>\n",
       "</div>"
      ],
      "text/plain": [
       "      discount                                              title  start  \\\n",
       "3206      5.00  b'grooveman Spot - Runnin\\' Pizza EP 1 (12\", EP)'  45.00   \n",
       "2046      8.95  b'Bufiman / Tim Schumacher (3) - Manifest#003 ...  15.00   \n",
       "2861      4.25    b'Jazz-N-Groove - Jazzy Grooves Volume 1 (12\")'   9.35   \n",
       "296       7.72              b'Jonathan Kusuma - Automatone (12\")'  29.90   \n",
       "154       4.74                b'Da Juice - Hear The Angels (12\")'   6.66   \n",
       "1007      4.60                b'Da Juice - Hear The Angels (12\")'   6.66   \n",
       "1305      4.38                     b'Leo Anibaldi - Aeon (2x12\")'  18.47   \n",
       "659      11.37  b'Shed / Don Williams / Sven Weisemann - 2nd B...   9.00   \n",
       "3343      4.99    b'Nina Kraviz - Nina Kraviz (2xLP, Album, Gat)'  19.90   \n",
       "843       5.32  b'Break The Limits - Break The Limits Part One...  10.00   \n",
       "\n",
       "      price    med   high                                           url  want  \\\n",
       "3206  45.00  50.00  68.00  https://www.discogs.com/sell/item/1011224823   225   \n",
       "2046  15.00  23.95  35.00  https://www.discogs.com/sell/item/1039981956   451   \n",
       "2861  13.25  17.50  35.00   https://www.discogs.com/sell/item/614958065   523   \n",
       "296   29.90  37.62  55.00  https://www.discogs.com/sell/item/1175328888   215   \n",
       "154   12.00  16.74  25.24  https://www.discogs.com/sell/item/1025690021   272   \n",
       "1007  12.00  16.60  25.24  https://www.discogs.com/sell/item/1025690021   272   \n",
       "1305  20.00  24.38  39.99   https://www.discogs.com/sell/item/963312887   489   \n",
       "659    9.00  20.37  25.00  https://www.discogs.com/sell/item/1162546824   397   \n",
       "3343  20.00  24.99  26.00  https://www.discogs.com/sell/item/1114785017   593   \n",
       "843   10.00  15.32  19.90  https://www.discogs.com/sell/item/1141444959   225   \n",
       "\n",
       "      have  for_sale   whratio last_sold  \n",
       "3206    54         3  4.166667    Apr 20  \n",
       "2046   117        10  3.854701    Aug 20  \n",
       "2861   153        14  3.418301    Sep 20  \n",
       "296     87         3  2.471264    Aug 20  \n",
       "154    125        14  2.176000    Jul 20  \n",
       "1007   125        13  2.176000    Jul 20  \n",
       "1305   250         9  1.956000    Oct 19  \n",
       "659    233        14  1.703863    Aug 20  \n",
       "3343   409        13  1.449878    Aug 20  \n",
       "843    177        13  1.271186    Jul 20  "
      ]
     },
     "execution_count": 26,
     "metadata": {},
     "output_type": "execute_result"
    }
   ],
   "source": [
    "best_bargains[print_view].sort_values(by='whratio', ascending=False)"
   ]
  },
  {
   "cell_type": "code",
   "execution_count": 27,
   "metadata": {},
   "outputs": [
    {
     "data": {
      "image/png": "[encoded data removed]",
      "text/plain": [
       "<Figure size 864x432 with 1 Axes>"
      ]
     },
     "metadata": {
      "needs_background": "light"
     },
     "output_type": "display_data"
    }
   ],
   "source": [
    "cols = [ 'discount', 'start', 'price', 'med', 'high', 'title', 'seller']\n",
    "plot(cols, 'discount', kind='box', head=30)"
   ]
  },
  {
   "cell_type": "code",
   "execution_count": null,
   "metadata": {},
   "outputs": [],
   "source": []
  },
  {
   "cell_type": "code",
   "execution_count": null,
   "metadata": {},
   "outputs": [],
   "source": []
  }
 ],
 "metadata": {
  "kernelspec": {
   "display_name": "Python 3",
   "language": "python",
   "name": "python3"
  },
  "language_info": {
   "codemirror_mode": {
    "name": "ipython",
    "version": 3
   },
   "file_extension": ".py",
   "mimetype": "text/x-python",
   "name": "python",
   "nbconvert_exporter": "python",
   "pygments_lexer": "ipython3",
   "version": "3.7.4"
  }
 },
 "nbformat": 4,
 "nbformat_minor": 4
}
