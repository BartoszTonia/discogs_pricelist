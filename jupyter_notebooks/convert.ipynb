{
 "cells": [
  {
   "cell_type": "markdown",
   "metadata": {},
   "source": [
    "## Preparing Dataframe"
   ]
  },
  {
   "cell_type": "markdown",
   "metadata": {},
   "source": [
    "This is the description for process of transformation data scraped from Discogs website. Whole script is stored in module `lib.convert` as function `prepare_df( temp )`. It automatically run after successfull pagination and it transform temporary file into proper database, ready for further analysis.\n",
    "\n",
    "<a href='scraping_engine.ipynb'> Scraping engine </a> already sorted out good quality records, now is time to clean data and some labels about possible profits. This will be done with `pandas`"
   ]
  },
  {
   "cell_type": "code",
   "execution_count": 1,
   "metadata": {},
   "outputs": [],
   "source": [
    "import pandas as pd\n",
    "\n",
    "temp = 'Electronic_PL_sample_database.csv'\n",
    "def prepare_df( temp ):\n",
    "    df = pd.read_csv(temp, encoding='utf-8')\n",
    "    ...\n",
    "    return df\n",
    "\n",
    "df = prepare_df(temp)"
   ]
  },
  {
   "cell_type": "markdown",
   "metadata": {},
   "source": [
    "Above is a just sample creation for this notebook. Next steps are introduced inside `prepare_df` function"
   ]
  },
  {
   "cell_type": "markdown",
   "metadata": {},
   "source": [
    "### Basic data cleaning"
   ]
  },
  {
   "cell_type": "code",
   "execution_count": 2,
   "metadata": {},
   "outputs": [
    {
     "data": {
      "text/plain": [
       "3492"
      ]
     },
     "execution_count": 2,
     "metadata": {},
     "output_type": "execute_result"
    }
   ],
   "source": [
    "df.id.count()"
   ]
  },
  {
   "cell_type": "code",
   "execution_count": 3,
   "metadata": {},
   "outputs": [
    {
     "data": {
      "text/plain": [
       "Unnamed: 0    False\n",
       "id            False\n",
       "title         False\n",
       "price         False\n",
       "ratio         False\n",
       "dtype: bool"
      ]
     },
     "execution_count": 3,
     "metadata": {},
     "output_type": "execute_result"
    }
   ],
   "source": [
    "df.any().isnull().head(5)"
   ]
  },
  {
   "cell_type": "markdown",
   "metadata": {},
   "source": [
    "It is just routine check. Actually, it should not be possible to have `naN` value as scraping engine from `dprice.py` ensures to set `0` every time it has problem with retrieving data. This is separately comunicated on screen for further investigation (to do - put it into log).\n",
    "\n",
    "The engine ensures correct data type descriptions, so there is nothing to do in here too."
   ]
  },
  {
   "cell_type": "code",
   "execution_count": 4,
   "metadata": {},
   "outputs": [
    {
     "data": {
      "text/plain": [
       "Unnamed: 0      int64\n",
       "id            float64\n",
       "title          object\n",
       "price         float64\n",
       "ratio         float64\n",
       "start         float64\n",
       "dtype: object"
      ]
     },
     "execution_count": 4,
     "metadata": {},
     "output_type": "execute_result"
    }
   ],
   "source": [
    "df.dtypes.head(6)"
   ]
  },
  {
   "cell_type": "markdown",
   "metadata": {},
   "source": [
    "\n",
    "For sure, we don't want to see records which have poor sale history. These would be one-time sales which can be easily recognized as they have the same value in `df['low']` and `df['high']`."
   ]
  },
  {
   "cell_type": "code",
   "execution_count": 5,
   "metadata": {},
   "outputs": [],
   "source": [
    "df['hi-low'] = df['high'] - df['low']"
   ]
  },
  {
   "cell_type": "markdown",
   "metadata": {},
   "source": [
    "With `df.hi-low` prepared we can exclude from our Dataframe one-time sales, next to records that were `never sold` and some errors in conection with `price = 0`"
   ]
  },
  {
   "cell_type": "code",
   "execution_count": 6,
   "metadata": {},
   "outputs": [],
   "source": [
    "df[df['last_sold'] != 'never_sold']\n",
    "df = df[df['hi-low'] != 0]\n",
    "df = df[df['price'] != 0]"
   ]
  },
  {
   "cell_type": "markdown",
   "metadata": {},
   "source": [
    "It should not be a suprise if no rows have been deleted. `dprice.py` engine is related to 'wants' so it exclude such record in very beginning. It is common that records with <a href='scraping_engine.ipynb' id='wants'>wants</a> over 100 has already sale history with more than 2 sales. "
   ]
  },
  {
   "cell_type": "code",
   "execution_count": 7,
   "metadata": {},
   "outputs": [
    {
     "data": {
      "text/plain": [
       "3492"
      ]
     },
     "execution_count": 7,
     "metadata": {},
     "output_type": "execute_result"
    }
   ],
   "source": [
    "df.id.count()"
   ]
  },
  {
   "cell_type": "markdown",
   "metadata": {},
   "source": [
    "### Add more labels"
   ]
  },
  {
   "cell_type": "markdown",
   "metadata": {},
   "source": [
    "<a id='bargain_label'></a>\n",
    "Next add a `'bargain_label'` which reflects ratio parameter - count as relation between price and median.\n",
    "We will start with list of tuples"
   ]
  },
  {
   "cell_type": "code",
   "execution_count": 8,
   "metadata": {},
   "outputs": [],
   "source": [
    "ratio_with_label = [\n",
    "    (0, 0.01, 'error'), (0.01, 0.85, 'very nice'), (0.85, 1.15, 'good'),\n",
    "    (1.15, 1.8, 'expensive'), (1.8, 2.9, 'overpriced'), (3, 1000, 'greedy')\n",
    "]"
   ]
  },
  {
   "cell_type": "markdown",
   "metadata": {},
   "source": [
    "Each tuple refer to ratio bounds and label, so `(0.01, 0.85, 'very nice')` means all prices with ratio <b>less</b> than `0.85` and <b>more</b> than `0.01` will get label `very nice`. Next, we assign labels to new column `bargain_label` running simple 'for' loop"
   ]
  },
  {
   "cell_type": "code",
   "execution_count": 9,
   "metadata": {},
   "outputs": [],
   "source": [
    "for i in ratio_with_label:\n",
    "        df.loc[(df['ratio'] > i[0]) & (df['ratio'] <= i[1]), 'bargain_label'] = i[2]"
   ]
  },
  {
   "cell_type": "markdown",
   "metadata": {},
   "source": [
    "Let's check and count assigned labels"
   ]
  },
  {
   "cell_type": "code",
   "execution_count": 10,
   "metadata": {},
   "outputs": [
    {
     "data": {
      "text/plain": [
       "expensive     1294\n",
       "good          1005\n",
       "overpriced     586\n",
       "very nice      392\n",
       "greedy         215\n",
       "Name: bargain_label, dtype: int64"
      ]
     },
     "execution_count": 10,
     "metadata": {},
     "output_type": "execute_result"
    }
   ],
   "source": [
    "df.bargain_label.value_counts()"
   ]
  },
  {
   "cell_type": "markdown",
   "metadata": {},
   "source": [
    "Good, now it is time to create another important label which will hold discount value. It will be held in column called `discount` and then used for final sorting."
   ]
  },
  {
   "cell_type": "code",
   "execution_count": 11,
   "metadata": {},
   "outputs": [
    {
     "data": {
      "text/plain": [
       "494      18.40\n",
       "1762     11.58\n",
       "659      11.37\n",
       "1973     11.10\n",
       "1714     11.05\n",
       "         ...  \n",
       "2500   -330.00\n",
       "1769   -373.75\n",
       "3048   -374.03\n",
       "1999   -476.46\n",
       "557    -476.50\n",
       "Name: discount, Length: 3492, dtype: float64"
      ]
     },
     "execution_count": 11,
     "metadata": {},
     "output_type": "execute_result"
    }
   ],
   "source": [
    "df['discount'] = df['med'] - df['price']\n",
    "df['discount'].sort_values(ascending=False)"
   ]
  },
  {
   "cell_type": "markdown",
   "metadata": {},
   "source": [
    "Positive values means benefit for buyer while negative is a benefit for seller (in relation to median price)"
   ]
  },
  {
   "cell_type": "markdown",
   "metadata": {},
   "source": [
    "## Creating Database"
   ]
  },
  {
   "cell_type": "markdown",
   "metadata": {},
   "source": [
    "Finally we can save our work with a function which takes already prepared Dataframe with destinated file path and create csv database. "
   ]
  },
  {
   "cell_type": "code",
   "execution_count": 12,
   "metadata": {},
   "outputs": [],
   "source": [
    "def create_db( df, location ):\n",
    "    try:\n",
    "        df.to_csv(location, index=True)\n",
    "        print('File was successfully created -- {}'.format(location))\n",
    "    except ValueError:\n",
    "        print(\"Empty file, not created -- {}{}\".format(location), ValueError)\n",
    "        pass"
   ]
  },
  {
   "cell_type": "markdown",
   "metadata": {},
   "source": [
    "Such file is ready for <a href='show.ipynb'> <b> analysis </b> </a> with `pandas`, `numpy` and `matplotlib`"
   ]
  },
  {
   "cell_type": "code",
   "execution_count": null,
   "metadata": {},
   "outputs": [],
   "source": []
  }
 ],
 "metadata": {
  "kernelspec": {
   "display_name": "Python 3",
   "language": "python",
   "name": "python3"
  },
  "language_info": {
   "codemirror_mode": {
    "name": "ipython",
    "version": 3
   },
   "file_extension": ".py",
   "mimetype": "text/x-python",
   "name": "python",
   "nbconvert_exporter": "python",
   "pygments_lexer": "ipython3",
   "version": "3.7.4"
  }
 },
 "nbformat": 4,
 "nbformat_minor": 4
}
